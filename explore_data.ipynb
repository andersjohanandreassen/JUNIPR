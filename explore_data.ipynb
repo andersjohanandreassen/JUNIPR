{
 "cells": [
  {
   "cell_type": "markdown",
   "metadata": {},
   "source": [
    "# Import libraries"
   ]
  },
  {
   "cell_type": "code",
   "execution_count": 1,
   "metadata": {},
   "outputs": [],
   "source": [
    "from load_data import *\n",
    "from matplotlib import pyplot as plt\n",
    "import numpy as np\n",
    "%load_ext autoreload\n",
    "%autoreload 2"
   ]
  },
  {
   "cell_type": "markdown",
   "metadata": {},
   "source": [
    "the library load_data.py contains the main function load_data(...) that loads the jets from FastJet to numpy arrays"
   ]
  },
  {
   "cell_type": "markdown",
   "metadata": {},
   "source": [
    "# Exploring FastJet-JUNIPR output format"
   ]
  },
  {
   "cell_type": "markdown",
   "metadata": {},
   "source": [
    "The output file from the fastjetcode \"jets_to_JUNIPR.cc\" looks like this:"
   ]
  },
  {
   "cell_type": "code",
   "execution_count": 2,
   "metadata": {},
   "outputs": [
    {
     "name": "stdout",
     "output_type": "stream",
     "text": [
      "J 0\n",
      "O 0 0 488.405 493.865\n",
      "E 7\n",
      "M 0 0 1 0 0 0 1 \n",
      "B 0.00363022 1.79256 4.37756 0.00304927 0.0166079 0.550764 3.82792 0.00876003 0.237378 0.258904 1.7143 0.0797107 0.106041 0.220513 4.64348 0.0259632 0.017117 0.212303 2.88331 0.00366474 0.073882 0.109016 4.03159 0.0086754 0.0494688 0.109734 2.82961 0.00570179 \n",
      "D 492.072 0.00304927 1.23597 57.1407 1.79284 1.79256 4.37756 0.938271 483.9 0.0114722 0.826209 44.0755 8.17229 0.548165 3.82608 1.31315 6.23237 0.604282 3.93012 0.440647 1.93992 0.416226 3.33764 0.157604 432.587 0.0356127 1.30354 22.4732 51.313 0.211726 4.68308 2.03015 425.182 0.0358608 1.20116 18.4099 7.40458 0.214645 2.7267 0.496592 393.769 0.0442214 1.14298 11.5195 31.4133 0.0755135 3.90124 1.35171 48.7746 0.213405 4.70891 1.52673 2.53839 0.208769 4.15149 0.0331925 \n",
      "P 493.865 0 0 73.2342 492.072 0.00304927 1.23597 57.1407 8.17229 0.548165 3.82608 1.31315 483.9 0.0114722 0.826209 44.0755 432.587 0.0356127 1.30354 22.4732 425.182 0.0358608 1.20116 18.4099 51.313 0.211726 4.68308 2.03015 \n",
      "J 1\n",
      "O 0 0 486.574 494.531\n",
      "E 10\n"
     ]
    }
   ],
   "source": [
    "!head input_data/JUNIPR_format_jets.dat"
   ]
  },
  {
   "cell_type": "markdown",
   "metadata": {},
   "source": [
    "\"J 0\" means this is jet number zero\n",
    "\n",
    "\"O 0 0 488.405 493.865\" gives the momentum of total jet and is oriented to point in the z-direction. In format (px, py, pz, E)\n",
    "\n",
    "\"E 7\" means that the shower ended at timestep t = 7 (starting at t=0)\n",
    "\n",
    "\"B ...\" gives the brancing for each timestep. There are 4*(number of branchings) numbers, and each set of 4 numbers correspond to (z, theta, phi, delta)\n",
    "\n",
    "\"D ...\" gives the daughters at each timestep. There are 8*(number of branchings) numbers, and each set of 8 numbers correspond to the four momentum of the two daughters. Each four momentum is given in coordinates (E, theta, phi, mass). The most energetic daughter is listed first\n",
    "\n",
    "\"P ...\" gives the mother momentum at each timestep. There are 4*(number of branchings) numbers, and each set of 4 numbers correspond to Each four momentum is given in coordinates (E, theta, phi, mass) for the mother\n"
   ]
  },
  {
   "cell_type": "markdown",
   "metadata": {},
   "source": [
    "# Load data"
   ]
  },
  {
   "cell_type": "code",
   "execution_count": 4,
   "metadata": {},
   "outputs": [
    {
     "name": "stdout",
     "output_type": "stream",
     "text": [
      "Getting pickled data from ./input_data/pickled/JUNIPR_format_jets_N20000_D4_BS10_G10.pickled\n"
     ]
    }
   ],
   "source": [
    "data_path   = 'input_data/JUNIPR_format_jets.dat'\n",
    "n_events    = 20000\n",
    "batch_size  = 10\n",
    "granularity = 10\n",
    "all_data = load_data(data_path, n_events, batch_size, granularity, reload = False)\n",
    "[seed_momentum, daughters, mother_momenta, endings, ending_weights, mothers, mother_weights, sparse_branchings, sparse_branching_weights] = all_data"
   ]
  },
  {
   "cell_type": "markdown",
   "metadata": {},
   "source": [
    "# Exploring output format from load_data"
   ]
  },
  {
   "cell_type": "markdown",
   "metadata": {},
   "source": [
    "The first index for each entry in all_data is the batch_number, then the next index indicates the jet in the batch"
   ]
  },
  {
   "cell_type": "code",
   "execution_count": 5,
   "metadata": {},
   "outputs": [],
   "source": [
    "batch_i = 0\n",
    "jet_i   = 0"
   ]
  },
  {
   "cell_type": "markdown",
   "metadata": {},
   "source": [
    "## Seed Momentum"
   ]
  },
  {
   "cell_type": "markdown",
   "metadata": {},
   "source": [
    "Each seed momentum is one feature scaled momentum of the format (E, theta, phi, mass) [or (E, theta, phi) if dim_mom == 3 ]"
   ]
  },
  {
   "cell_type": "code",
   "execution_count": 6,
   "metadata": {},
   "outputs": [
    {
     "data": {
      "text/plain": [
       "array([ 0.99801341, -1.10421842,  0.        ,  0.69089755])"
      ]
     },
     "execution_count": 6,
     "metadata": {},
     "output_type": "execute_result"
    }
   ],
   "source": [
    "seed_momentum[batch_i][jet_i]"
   ]
  },
  {
   "cell_type": "markdown",
   "metadata": {},
   "source": [
    "## Daughters"
   ]
  },
  {
   "cell_type": "markdown",
   "metadata": {},
   "source": [
    "First entry of list of daughters is padded with zeros since at t=0 there is only the seed particle and no daughters. \n",
    "\n",
    "Daughter momenta has been feature scaled to be approximately in the range [0,1]\n",
    "\n",
    "All jets in same batch has been padded to be the same length. Daughters are padded with value -1. "
   ]
  },
  {
   "cell_type": "code",
   "execution_count": 7,
   "metadata": {},
   "outputs": [
    {
     "data": {
      "text/plain": [
       "array([[ 0.        ,  0.        ,  0.        ,  0.        ,  0.        ,\n",
       "         0.        ,  0.        ,  0.        ],\n",
       "       [ 0.9974281 ,  0.3037583 ,  0.19671074,  0.6509689 ,  0.09394011,\n",
       "         1.0147246 ,  0.6967103 , -0.01025269],\n",
       "       [ 0.9947334 ,  0.4514958 ,  0.13149525,  0.60919434,  0.33803406,\n",
       "         0.88261926,  0.6089395 ,  0.04383685],\n",
       "       [ 0.29442832,  0.8934864 ,  0.625498  , -0.13186853,  0.10662728,\n",
       "         0.8519185 ,  0.5312019 , -0.29731074],\n",
       "       [ 0.9766961 ,  0.57779795,  0.20746483,  0.5008077 ,  0.6336593 ,\n",
       "         0.7765531 ,  0.74533534,  0.11394277],\n",
       "       [ 0.9739178 ,  0.57857203,  0.19117056,  0.46871638,  0.3221601 ,\n",
       "         0.7780798 ,  0.43396777, -0.11263566],\n",
       "       [ 0.9615674 ,  0.60193795,  0.18191092,  0.3932736 ,  0.5546981 ,\n",
       "         0.6616008 ,  0.62090164,  0.04849388],\n",
       "       [ 0.62549555,  0.7774338 ,  0.74944633,  0.06808607,  0.14989361,\n",
       "         0.77498496,  0.6607302 , -0.547972  ],\n",
       "       [-1.        , -1.        , -1.        , -1.        , -1.        ,\n",
       "        -1.        , -1.        , -1.        ],\n",
       "       [-1.        , -1.        , -1.        , -1.        , -1.        ,\n",
       "        -1.        , -1.        , -1.        ],\n",
       "       [-1.        , -1.        , -1.        , -1.        , -1.        ,\n",
       "        -1.        , -1.        , -1.        ],\n",
       "       [-1.        , -1.        , -1.        , -1.        , -1.        ,\n",
       "        -1.        , -1.        , -1.        ],\n",
       "       [-1.        , -1.        , -1.        , -1.        , -1.        ,\n",
       "        -1.        , -1.        , -1.        ]], dtype=float32)"
      ]
     },
     "execution_count": 7,
     "metadata": {},
     "output_type": "execute_result"
    }
   ],
   "source": [
    "daughters[batch_i][jet_i]"
   ]
  },
  {
   "cell_type": "markdown",
   "metadata": {},
   "source": [
    "## Mother momenta"
   ]
  },
  {
   "cell_type": "markdown",
   "metadata": {},
   "source": [
    "Mother momenta has been feature scaled to be approximately in the range [0,1]\n",
    "\n",
    "All jets in same batch has been padded to be the same length. Mothers are padded with value -1. "
   ]
  },
  {
   "cell_type": "code",
   "execution_count": 8,
   "metadata": {},
   "outputs": [
    {
     "data": {
      "text/plain": [
       "array([[ 0.9980134 , -1.1042184 ,  0.        ,  0.69089836],\n",
       "       [ 0.9974281 ,  0.3037583 ,  0.19671074,  0.6509689 ],\n",
       "       [ 0.33803406,  0.88261926,  0.6089395 ,  0.04383685],\n",
       "       [ 0.9947334 ,  0.4514958 ,  0.13149525,  0.60919434],\n",
       "       [ 0.9766961 ,  0.57779795,  0.20746483,  0.5008077 ],\n",
       "       [ 0.9739178 ,  0.57857203,  0.19117056,  0.46871638],\n",
       "       [ 0.6336593 ,  0.7765531 ,  0.74533534,  0.11394277],\n",
       "       [-1.        , -1.        , -1.        , -1.        ],\n",
       "       [-1.        , -1.        , -1.        , -1.        ],\n",
       "       [-1.        , -1.        , -1.        , -1.        ],\n",
       "       [-1.        , -1.        , -1.        , -1.        ],\n",
       "       [-1.        , -1.        , -1.        , -1.        ],\n",
       "       [-1.        , -1.        , -1.        , -1.        ]],\n",
       "      dtype=float32)"
      ]
     },
     "execution_count": 8,
     "metadata": {},
     "output_type": "execute_result"
    }
   ],
   "source": [
    "mother_momenta[batch_i][jet_i]"
   ]
  },
  {
   "cell_type": "markdown",
   "metadata": {},
   "source": [
    "## Endings & Ending_weights"
   ]
  },
  {
   "cell_type": "markdown",
   "metadata": {},
   "source": [
    "Endings is a list of booleans. It is false if the jet did not end, and true if it ended. \n",
    "\n",
    "Endings has been padded with False to get same length as the rest of the batch. \n",
    "\n",
    "Ending_weights is a corresponding list with True for real values and False for padded values in endings. "
   ]
  },
  {
   "cell_type": "code",
   "execution_count": 9,
   "metadata": {},
   "outputs": [
    {
     "data": {
      "text/plain": [
       "array([[False],\n",
       "       [False],\n",
       "       [False],\n",
       "       [False],\n",
       "       [False],\n",
       "       [False],\n",
       "       [False],\n",
       "       [ True],\n",
       "       [False],\n",
       "       [False],\n",
       "       [False],\n",
       "       [False],\n",
       "       [False]])"
      ]
     },
     "execution_count": 9,
     "metadata": {},
     "output_type": "execute_result"
    }
   ],
   "source": [
    "endings[batch_i][jet_i]"
   ]
  },
  {
   "cell_type": "code",
   "execution_count": 10,
   "metadata": {},
   "outputs": [
    {
     "data": {
      "text/plain": [
       "array([[ True],\n",
       "       [ True],\n",
       "       [ True],\n",
       "       [ True],\n",
       "       [ True],\n",
       "       [ True],\n",
       "       [ True],\n",
       "       [ True],\n",
       "       [False],\n",
       "       [False],\n",
       "       [False],\n",
       "       [False],\n",
       "       [False]])"
      ]
     },
     "execution_count": 10,
     "metadata": {},
     "output_type": "execute_result"
    }
   ],
   "source": [
    "ending_weights[batch_i][jet_i]"
   ]
  },
  {
   "cell_type": "markdown",
   "metadata": {},
   "source": [
    "## Mothers and Mother_weights"
   ]
  },
  {
   "cell_type": "markdown",
   "metadata": {},
   "source": [
    "Mothers is a matrix with dimension (timestep, dim_mother_out). dim_mother_out is default set to 100. \n",
    "\n",
    "At timestep t, there are (t+1) available candidate mothers (starting at t=0 for the seed particle).\n",
    "\n",
    "The index in the dim_mother_out axis corresponds to the index of the candidate mother in an energy ordered list.\n",
    "\n",
    "E.g. (for batch_i=0, jet_i=0):\n",
    "\n",
    "At t=0 there is only one particle avaiable, so mothers[batch_i][jet_i][t=0][0]=True\n",
    "\n",
    "At t=1 the most energetic candidate mother branched so mothers[batch_i][jet_i][t=1][0]=True\n",
    "\n",
    "At t=2 the second most energetic candidate mother branched so mothers[batch_i][jet_i][t=1][1]=True\n",
    "\n",
    "... And so on.\n",
    "\n",
    "Mother_weights has the same shape as mothers, and its entries is True for all mother candidates for each time step. \n",
    "\n",
    "Mothers and Mohter_weights has been padded with False to match the length of the rest of the batch"
   ]
  },
  {
   "cell_type": "code",
   "execution_count": 11,
   "metadata": {},
   "outputs": [
    {
     "data": {
      "text/plain": [
       "array([[ True, False, False, ..., False, False, False],\n",
       "       [ True, False, False, ..., False, False, False],\n",
       "       [False,  True, False, ..., False, False, False],\n",
       "       ...,\n",
       "       [False, False, False, ..., False, False, False],\n",
       "       [False, False, False, ..., False, False, False],\n",
       "       [False, False, False, ..., False, False, False]])"
      ]
     },
     "execution_count": 11,
     "metadata": {},
     "output_type": "execute_result"
    }
   ],
   "source": [
    "mothers[batch_i][jet_i]"
   ]
  },
  {
   "cell_type": "code",
   "execution_count": 12,
   "metadata": {},
   "outputs": [
    {
     "data": {
      "text/plain": [
       "array([[ True, False, False, ..., False, False, False],\n",
       "       [ True,  True, False, ..., False, False, False],\n",
       "       [ True,  True,  True, ..., False, False, False],\n",
       "       ...,\n",
       "       [False, False, False, ..., False, False, False],\n",
       "       [False, False, False, ..., False, False, False],\n",
       "       [False, False, False, ..., False, False, False]])"
      ]
     },
     "execution_count": 12,
     "metadata": {},
     "output_type": "execute_result"
    }
   ],
   "source": [
    "mother_weights[batch_i][jet_i]"
   ]
  },
  {
   "cell_type": "markdown",
   "metadata": {},
   "source": [
    "## Sparse_branchings and sparse_branching_weigths"
   ]
  },
  {
   "cell_type": "markdown",
   "metadata": {},
   "source": [
    "Sparse_branchings gives the index to a cell in the granularity^4 space of possible branchings for each timestep. By default granularity=10. \n",
    "\n",
    "Sparse_branchings is padded with the value granularity^4. Since arrays start counting at 0, the branching index i is in the range [0,granularity^4-1] and i=granularity^4 is unphysical (hence why it is used as a pad_value).  \n",
    "\n",
    "Sparse_branching_weights is True for real data and False for padded values. "
   ]
  },
  {
   "cell_type": "code",
   "execution_count": 13,
   "metadata": {},
   "outputs": [
    {
     "data": {
      "text/plain": [
       "array([[ 1963],\n",
       "       [ 3664],\n",
       "       [ 8427],\n",
       "       [ 7475],\n",
       "       [ 3443],\n",
       "       [ 6264],\n",
       "       [ 5244],\n",
       "       [10000],\n",
       "       [10000],\n",
       "       [10000],\n",
       "       [10000],\n",
       "       [10000],\n",
       "       [10000]], dtype=int32)"
      ]
     },
     "execution_count": 13,
     "metadata": {},
     "output_type": "execute_result"
    }
   ],
   "source": [
    "sparse_branchings[batch_i][jet_i]"
   ]
  },
  {
   "cell_type": "code",
   "execution_count": 14,
   "metadata": {},
   "outputs": [
    {
     "data": {
      "text/plain": [
       "array([[ True],\n",
       "       [ True],\n",
       "       [ True],\n",
       "       [ True],\n",
       "       [ True],\n",
       "       [ True],\n",
       "       [ True],\n",
       "       [False],\n",
       "       [False],\n",
       "       [False],\n",
       "       [False],\n",
       "       [False],\n",
       "       [False]])"
      ]
     },
     "execution_count": 14,
     "metadata": {},
     "output_type": "execute_result"
    }
   ],
   "source": [
    "sparse_branching_weights[batch_i][jet_i]"
   ]
  },
  {
   "cell_type": "markdown",
   "metadata": {},
   "source": [
    "# Plot distributions"
   ]
  },
  {
   "cell_type": "code",
   "execution_count": 13,
   "metadata": {},
   "outputs": [],
   "source": [
    "from JUNIPR import *\n",
    "from plotting_utilities import *"
   ]
  },
  {
   "cell_type": "code",
   "execution_count": 14,
   "metadata": {},
   "outputs": [],
   "source": [
    "junipr = JUNIPR()"
   ]
  },
  {
   "cell_type": "code",
   "execution_count": 15,
   "metadata": {},
   "outputs": [],
   "source": [
    "Pythia_outputs = junipr.validate(all_data, predict = False)"
   ]
  },
  {
   "cell_type": "markdown",
   "metadata": {},
   "source": [
    "# Endings"
   ]
  },
  {
   "cell_type": "code",
   "execution_count": 16,
   "metadata": {},
   "outputs": [
    {
     "data": {
      "image/png": "[encoded data removed]",
      "text/plain": [
       "<Figure size 288x216 with 1 Axes>"
      ]
     },
     "metadata": {},
     "output_type": "display_data"
    }
   ],
   "source": [
    "e_settings = {'alpha':0.5, 'width':1}\n",
    "plt.bar(*p_end(Pythia_outputs[0], Pythia_outputs[1]), label = \"Pythia\", **e_settings)\n",
    "plt.xticks([0, 5, 10, 15, 20, 25, 30])\n",
    "plt.axis([0, 30, 0, 1])\n",
    "plt.xlabel('intermediate state length')\n",
    "plt.ylabel('probability to end')\n",
    "plt.legend()\n",
    "plt.show()"
   ]
  },
  {
   "cell_type": "markdown",
   "metadata": {},
   "source": [
    "# Mothers"
   ]
  },
  {
   "cell_type": "code",
   "execution_count": 23,
   "metadata": {},
   "outputs": [
    {
     "data": {
      "image/png": "[encoded data removed]",
      "text/plain": [
       "<Figure size 288x216 with 1 Axes>"
      ]
     },
     "metadata": {},
     "output_type": "display_data"
    }
   ],
   "source": [
    "m_settings = {'alpha':0.5, 'width':1}\n",
    "t = None\n",
    "plt.bar(*p_mother(Pythia_outputs[2], Pythia_outputs[3], t=t), label=\"Pythia\", **m_settings)\n",
    "plt.xticks(np.arange(0, 11, 1))\n",
    "plt.axis([-0.5, 10.5, 0, 0.5])\n",
    "plt.xlabel('index in energy sorted state ' + t_label(t))\n",
    "plt.ylabel('probability to branch')\n",
    "plt.legend()\n",
    "plt.show()"
   ]
  },
  {
   "cell_type": "markdown",
   "metadata": {},
   "source": [
    "# Branchings"
   ]
  },
  {
   "cell_type": "code",
   "execution_count": 18,
   "metadata": {},
   "outputs": [],
   "source": [
    "b_settings = {'alpha':0.5, 'align':'edge'}"
   ]
  },
  {
   "cell_type": "code",
   "execution_count": 19,
   "metadata": {},
   "outputs": [
    {
     "data": {
      "image/png": "[encoded data removed]",
      "text/plain": [
       "<Figure size 288x216 with 1 Axes>"
      ]
     },
     "metadata": {},
     "output_type": "display_data"
    }
   ],
   "source": [
    "t = None\n",
    "plt.bar(*p_z(Pythia_outputs[4], Pythia_outputs[5], granularity=granularity, t=t), label = 'Pythia', **b_settings)\n",
    "plt.xscale('log')\n",
    "plt.xlabel('$z$ ' + t_label(t))\n",
    "plt.ylabel('probability')\n",
    "plt.xticks([0.01, 0.1, 0.5], [0.01, 0.1, 0.5])\n",
    "plt.legend()\n",
    "plt.show()"
   ]
  },
  {
   "cell_type": "code",
   "execution_count": 20,
   "metadata": {},
   "outputs": [
    {
     "data": {
      "image/png": "[encoded data removed]",
      "text/plain": [
       "<Figure size 288x216 with 1 Axes>"
      ]
     },
     "metadata": {},
     "output_type": "display_data"
    }
   ],
   "source": [
    "t = None\n",
    "plt.bar(*p_theta(Pythia_outputs[4], Pythia_outputs[5], granularity=granularity, t=t), label = 'Pythia', **b_settings)\n",
    "#plt.bar(*p_theta(JUNIPR_outputs[4], JUNIPR_outputs[5], granularity=granularity, t=t), label = 'JUNIPR', **b_settings)\n",
    "plt.xscale('log')\n",
    "plt.xlabel('$\\\\theta$ ' + t_label(t))\n",
    "plt.ylabel('probability')\n",
    "plt.xticks([0.05, 0.1, 0.3, 1, np.pi/2], [0.05, 0.1, 0.3, 1, '$\\pi/2$'])\n",
    "plt.legend()\n",
    "plt.show()"
   ]
  },
  {
   "cell_type": "code",
   "execution_count": 21,
   "metadata": {},
   "outputs": [
    {
     "data": {
      "image/png": "[encoded data removed]",
      "text/plain": [
       "<Figure size 288x216 with 1 Axes>"
      ]
     },
     "metadata": {},
     "output_type": "display_data"
    }
   ],
   "source": [
    "t = None\n",
    "plt.bar(*p_phi(Pythia_outputs[4], Pythia_outputs[5], granularity=granularity, t=t), label = 'Pythia', **b_settings)\n",
    "#plt.bar(*p_phi(JUNIPR_outputs[4], JUNIPR_outputs[5], granularity=granularity, t=t), label = 'JUNIPR', **b_settings)\n",
    "plt.xlabel('$\\\\phi$ ' + t_label(t))\n",
    "plt.ylabel('probability')\n",
    "plt.xticks([0, np.pi, 2* np.pi], [0,'$\\pi$', '$2\\pi$'])\n",
    "plt.legend()\n",
    "plt.show()"
   ]
  },
  {
   "cell_type": "code",
   "execution_count": 22,
   "metadata": {},
   "outputs": [
    {
     "data": {
      "image/png": "[encoded data removed]",
      "text/plain": [
       "<Figure size 288x216 with 1 Axes>"
      ]
     },
     "metadata": {},
     "output_type": "display_data"
    }
   ],
   "source": [
    "t = None\n",
    "plt.bar(*p_delta(Pythia_outputs[4], Pythia_outputs[5], granularity=granularity, t=t), label = 'Pythia', **b_settings)\n",
    "#plt.bar(*p_delta(JUNIPR_outputs[4], JUNIPR_outputs[5], granularity=granularity, t=t), label = 'JUNIPR', **b_settings)\n",
    "plt.xscale('log')\n",
    "plt.xlabel('$\\\\delta$ ' + t_label(t))\n",
    "plt.ylabel('probability')\n",
    "plt.xticks([2e-4, 0.01, 0.1, 0.8], [2e-4, 0.01, 0.1, 0.8])\n",
    "plt.legend()\n",
    "plt.show()"
   ]
  },
  {
   "cell_type": "code",
   "execution_count": null,
   "metadata": {},
   "outputs": [],
   "source": []
  }
 ],
 "metadata": {
  "kernelspec": {
   "display_name": "Python [conda env:TFenv]",
   "language": "python",
   "name": "conda-env-TFenv-py"
  },
  "language_info": {
   "codemirror_mode": {
    "name": "ipython",
    "version": 3
   },
   "file_extension": ".py",
   "mimetype": "text/x-python",
   "name": "python",
   "nbconvert_exporter": "python",
   "pygments_lexer": "ipython3",
   "version": "3.6.6"
  }
 },
 "nbformat": 4,
 "nbformat_minor": 2
}
