{
 "cells": [
  {
   "cell_type": "code",
   "execution_count": 1,
   "metadata": {},
   "outputs": [],
   "source": [
    "import tensorflow as tf\n",
    "tf.compat.v1.disable_eager_execution()\n",
    "import numpy as np\n",
    "from matplotlib import pyplot as plt\n",
    "\n",
    "from junipr import *"
   ]
  },
  {
   "cell_type": "code",
   "execution_count": 2,
   "metadata": {},
   "outputs": [],
   "source": [
    "# create your TFRecord, you you have not already done so. \n",
    "#create_TFRecord('./data/json/JuniprJets.json','./data/tfrecord/JuniprJets.tfrecord')"
   ]
  },
  {
   "cell_type": "code",
   "execution_count": 3,
   "metadata": {},
   "outputs": [],
   "source": [
    "# Get dataset\n",
    "dataset = get_dataset('./data/tfrecord/JuniprJets.tfrecord', \n",
    "                      batch_size=100\n",
    "                     )\n",
    "dataset = dataset.shuffle(buffer_size=1024)\n",
    "dataset = dataset.repeat()\n",
    "dataset = dataset.prefetch(1)"
   ]
  },
  {
   "cell_type": "code",
   "execution_count": 4,
   "metadata": {},
   "outputs": [
    {
     "name": "stdout",
     "output_type": "stream",
     "text": [
      "Using SimpleRNN Network\n",
      "Compiling: Using Adam with learning rate0.001. Default value should be 1e-3.\n"
     ]
    }
   ],
   "source": [
    "# Construct model\n",
    "junipr = JUNIPR(optimizer='Adam')\n",
    "junipr.compile_model(learning_rate = 0.001)"
   ]
  },
  {
   "cell_type": "code",
   "execution_count": 5,
   "metadata": {},
   "outputs": [],
   "source": [
    "checkpoint = tf.keras.callbacks.ModelCheckpoint('./saved_models/JuniprAdam.h5py', \n",
    "                                                monitor='loss', \n",
    "                                                verbose=2, \n",
    "                                                save_best_only=True, \n",
    "                                                mode='min')\n",
    "\n",
    "callbacks = [checkpoint]"
   ]
  },
  {
   "cell_type": "code",
   "execution_count": 6,
   "metadata": {},
   "outputs": [
    {
     "name": "stdout",
     "output_type": "stream",
     "text": [
      "Epoch 1/5\n",
      "\n",
      "Epoch 00001: loss improved from inf to 5.80356, saving model to ./saved_models/JuniprAdam.h5py\n",
      "100/100 - 18s - loss: 5.8036 - endings_loss: 0.3745 - mothers_loss: 0.7311 - sparse_branchings_z_loss: 1.1778 - sparse_branchings_t_loss: 1.1660 - sparse_branchings_p_loss: 1.1840 - sparse_branchings_d_loss: 1.1268\n",
      "Epoch 2/5\n",
      "\n",
      "Epoch 00002: loss improved from 5.80356 to 5.09063, saving model to ./saved_models/JuniprAdam.h5py\n",
      "100/100 - 2s - loss: 5.0906 - endings_loss: 0.2253 - mothers_loss: 0.6297 - sparse_branchings_z_loss: 1.0613 - sparse_branchings_t_loss: 0.9969 - sparse_branchings_p_loss: 1.1606 - sparse_branchings_d_loss: 0.9852\n",
      "Epoch 3/5\n",
      "\n",
      "Epoch 00003: loss improved from 5.09063 to 4.90830, saving model to ./saved_models/JuniprAdam.h5py\n",
      "100/100 - 2s - loss: 4.9083 - endings_loss: 0.1988 - mothers_loss: 0.6318 - sparse_branchings_z_loss: 1.0265 - sparse_branchings_t_loss: 0.9175 - sparse_branchings_p_loss: 1.1810 - sparse_branchings_d_loss: 0.9220\n",
      "Epoch 4/5\n",
      "\n",
      "Epoch 00004: loss improved from 4.90830 to 4.59042, saving model to ./saved_models/JuniprAdam.h5py\n",
      "100/100 - 2s - loss: 4.5904 - endings_loss: 0.1662 - mothers_loss: 0.6129 - sparse_branchings_z_loss: 0.9663 - sparse_branchings_t_loss: 0.8294 - sparse_branchings_p_loss: 1.1523 - sparse_branchings_d_loss: 0.8319\n",
      "Epoch 5/5\n",
      "\n",
      "Epoch 00005: loss improved from 4.59042 to 4.50045, saving model to ./saved_models/JuniprAdam.h5py\n",
      "100/100 - 2s - loss: 4.5005 - endings_loss: 0.1439 - mothers_loss: 0.6171 - sparse_branchings_z_loss: 0.9426 - sparse_branchings_t_loss: 0.8004 - sparse_branchings_p_loss: 1.1708 - sparse_branchings_d_loss: 0.7953\n"
     ]
    },
    {
     "data": {
      "text/plain": [
       "<tensorflow.python.keras.callbacks.History at 0x2aacf1117470>"
      ]
     },
     "execution_count": 6,
     "metadata": {},
     "output_type": "execute_result"
    }
   ],
   "source": [
    "junipr.model.fit(dataset, steps_per_epoch = 100, epochs=5, callbacks=callbacks, verbose=2)"
   ]
  }
 ],
 "metadata": {
  "kernelspec": {
   "display_name": "tf2",
   "language": "python",
   "name": "tf2"
  },
  "language_info": {
   "codemirror_mode": {
    "name": "ipython",
    "version": 3
   },
   "file_extension": ".py",
   "mimetype": "text/x-python",
   "name": "python",
   "nbconvert_exporter": "python",
   "pygments_lexer": "ipython3",
   "version": "3.6.8"
  }
 },
 "nbformat": 4,
 "nbformat_minor": 2
}
