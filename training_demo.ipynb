{
 "cells": [
  {
   "cell_type": "code",
   "execution_count": 1,
   "metadata": {},
   "outputs": [],
   "source": [
    "import tensorflow as tf\n",
    "tf.compat.v1.disable_eager_execution()\n",
    "import numpy as np\n",
    "from matplotlib import pyplot as plt\n",
    "\n",
    "from junipr import *"
   ]
  },
  {
   "cell_type": "code",
   "execution_count": 2,
   "metadata": {},
   "outputs": [],
   "source": [
    "# create your TFRecord, you you have not already done so. \n",
    "#create_TFRecord('./data/json/JuniprJets.json', './data/tfrecord/JuniprJets.tfrecord')"
   ]
  },
  {
   "cell_type": "code",
   "execution_count": 3,
   "metadata": {},
   "outputs": [],
   "source": [
    "# Get dataset\n",
    "dataset = get_dataset('./data/tfrecord/JuniprJets_test.tfrecord', \n",
    "                      batch_size=100\n",
    "                     )"
   ]
  },
  {
   "cell_type": "code",
   "execution_count": 4,
   "metadata": {},
   "outputs": [
    {
     "name": "stdout",
     "output_type": "stream",
     "text": [
      "Using SimpleRNN Network\n",
      "Compiling: Using Adam with learning rate0.001. Default value should be 1e-3.\n"
     ]
    }
   ],
   "source": [
    "# Construct model\n",
    "junipr = JUNIPR(optimizer='Adam')\n",
    "junipr.compile_model(learning_rate = 0.001)"
   ]
  },
  {
   "cell_type": "code",
   "execution_count": 5,
   "metadata": {},
   "outputs": [],
   "source": [
    "save_label = 'JuniprAdam'\n",
    "\n",
    "checkpoint = tf.keras.callbacks.ModelCheckpoint('./saved_models/' + save_label + '.h5', \n",
    "                                                monitor='loss', \n",
    "                                                verbose=2, \n",
    "                                                save_best_only=True, \n",
    "                                                mode='min')\n",
    "\n",
    "CSVLogger = tf.keras.callbacks.CSVLogger('./logs/' + save_label + '_loss.csv', append=False)\n",
    "\n",
    "callbacks = [checkpoint, CSVLogger]"
   ]
  },
  {
   "cell_type": "code",
   "execution_count": 6,
   "metadata": {},
   "outputs": [
    {
     "name": "stdout",
     "output_type": "stream",
     "text": [
      "Epoch 1/5\n",
      "\n",
      "Epoch 00001: loss improved from inf to 5.61271, saving model to ./saved_models/JuniprAdam.h5\n",
      "100/100 - 8s - loss: 5.6127 - endings_loss: 0.2059 - mothers_loss: 0.7062 - sparse_branchings_z_loss: 1.2007 - sparse_branchings_t_loss: 1.1194 - sparse_branchings_p_loss: 1.2293 - sparse_branchings_d_loss: 1.1161\n",
      "Epoch 2/5\n",
      "\n",
      "Epoch 00002: loss improved from 5.61271 to 5.09056, saving model to ./saved_models/JuniprAdam.h5\n",
      "100/100 - 3s - loss: 5.0906 - endings_loss: 0.1629 - mothers_loss: 0.6362 - sparse_branchings_z_loss: 1.1082 - sparse_branchings_t_loss: 0.9432 - sparse_branchings_p_loss: 1.1863 - sparse_branchings_d_loss: 1.0246\n",
      "Epoch 3/5\n",
      "\n",
      "Epoch 00003: loss improved from 5.09056 to 4.84432, saving model to ./saved_models/JuniprAdam.h5\n",
      "100/100 - 3s - loss: 4.8443 - endings_loss: 0.1440 - mothers_loss: 0.6300 - sparse_branchings_z_loss: 1.0301 - sparse_branchings_t_loss: 0.8521 - sparse_branchings_p_loss: 1.1847 - sparse_branchings_d_loss: 0.9713\n",
      "Epoch 4/5\n",
      "\n",
      "Epoch 00004: loss improved from 4.84432 to 4.56288, saving model to ./saved_models/JuniprAdam.h5\n",
      "100/100 - 3s - loss: 4.5629 - endings_loss: 0.1328 - mothers_loss: 0.6088 - sparse_branchings_z_loss: 0.9658 - sparse_branchings_t_loss: 0.7868 - sparse_branchings_p_loss: 1.1544 - sparse_branchings_d_loss: 0.8799\n",
      "Epoch 5/5\n",
      "\n",
      "Epoch 00005: loss improved from 4.56288 to 4.49510, saving model to ./saved_models/JuniprAdam.h5\n",
      "100/100 - 3s - loss: 4.4951 - endings_loss: 0.1320 - mothers_loss: 0.6121 - sparse_branchings_z_loss: 0.9486 - sparse_branchings_t_loss: 0.7728 - sparse_branchings_p_loss: 1.1699 - sparse_branchings_d_loss: 0.8352\n"
     ]
    },
    {
     "data": {
      "text/plain": [
       "<tensorflow.python.keras.callbacks.History at 0x2aad1911a710>"
      ]
     },
     "execution_count": 6,
     "metadata": {},
     "output_type": "execute_result"
    }
   ],
   "source": [
    "junipr.model.fit(dataset, steps_per_epoch = 100, epochs=5, callbacks=callbacks, verbose=2)"
   ]
  },
  {
   "cell_type": "code",
   "execution_count": null,
   "metadata": {},
   "outputs": [],
   "source": []
  }
 ],
 "metadata": {
  "kernelspec": {
   "display_name": "tf2",
   "language": "python",
   "name": "tf2"
  },
  "language_info": {
   "codemirror_mode": {
    "name": "ipython",
    "version": 3
   },
   "file_extension": ".py",
   "mimetype": "text/x-python",
   "name": "python",
   "nbconvert_exporter": "python",
   "pygments_lexer": "ipython3",
   "version": "3.6.8"
  }
 },
 "nbformat": 4,
 "nbformat_minor": 2
}
