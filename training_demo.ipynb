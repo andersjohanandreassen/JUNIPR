{
 "cells": [
  {
   "cell_type": "code",
   "execution_count": 1,
   "metadata": {},
   "outputs": [],
   "source": [
    "import tensorflow as tf\n",
    "tf.compat.v1.disable_eager_execution()\n",
    "import numpy as np\n",
    "from matplotlib import pyplot as plt\n",
    "\n",
    "from junipr import *"
   ]
  },
  {
   "cell_type": "code",
   "execution_count": 2,
   "metadata": {},
   "outputs": [],
   "source": [
    "# create your TFRecord, you you have not already done so. \n",
    "#create_TFRecord('./data/json/JuniprJets.json', './data/tfrecord/JuniprJets.tfrecord')"
   ]
  },
  {
   "cell_type": "code",
   "execution_count": 3,
   "metadata": {},
   "outputs": [],
   "source": [
    "# Get dataset\n",
    "dataset = get_dataset('./data/tfrecord/JuniprJets.tfrecord', \n",
    "                      batch_size=100\n",
    "                     )"
   ]
  },
  {
   "cell_type": "code",
   "execution_count": 4,
   "metadata": {},
   "outputs": [
    {
     "name": "stdout",
     "output_type": "stream",
     "text": [
      "Using SimpleRNN Network\n",
      "Compiling: Using Adam with learning rate0.001. Default value should be 1e-3.\n"
     ]
    }
   ],
   "source": [
    "# Construct model\n",
    "junipr = JUNIPR(optimizer='Adam')\n",
    "junipr.compile_model(learning_rate = 0.001)"
   ]
  },
  {
   "cell_type": "code",
   "execution_count": 5,
   "metadata": {},
   "outputs": [],
   "source": [
    "save_label = 'JuniprAdam'\n",
    "\n",
    "checkpoint = tf.keras.callbacks.ModelCheckpoint('./saved_models/' + save_label + '.h5', \n",
    "                                                monitor='loss', \n",
    "                                                verbose=2, \n",
    "                                                save_best_only=True, \n",
    "                                                mode='min')\n",
    "\n",
    "CSVLogger = tf.keras.callbacks.CSVLogger('./logs/' + save_label + '_loss.csv', append=False)\n",
    "\n",
    "callbacks = [checkpoint, CSVLogger]"
   ]
  },
  {
   "cell_type": "code",
   "execution_count": 6,
   "metadata": {},
   "outputs": [
    {
     "name": "stdout",
     "output_type": "stream",
     "text": [
      "Epoch 1/5\n",
      "\n",
      "Epoch 00001: loss improved from inf to 5.80813, saving model to ./saved_models/JuniprAdam.h5\n",
      "100/100 - 6s - loss: 5.8081 - endings_loss: 0.3261 - mothers_loss: 0.7230 - sparse_branchings_z_loss: 1.2118 - sparse_branchings_t_loss: 1.0919 - sparse_branchings_p_loss: 1.2224 - sparse_branchings_d_loss: 1.1976\n",
      "Epoch 2/5\n",
      "\n",
      "Epoch 00002: loss improved from 5.80813 to 5.05670, saving model to ./saved_models/JuniprAdam.h5\n",
      "100/100 - 2s - loss: 5.0567 - endings_loss: 0.1942 - mothers_loss: 0.6319 - sparse_branchings_z_loss: 1.0574 - sparse_branchings_t_loss: 0.9588 - sparse_branchings_p_loss: 1.1797 - sparse_branchings_d_loss: 0.9988\n",
      "Epoch 3/5\n",
      "\n",
      "Epoch 00003: loss improved from 5.05670 to 4.70766, saving model to ./saved_models/JuniprAdam.h5\n",
      "100/100 - 2s - loss: 4.7077 - endings_loss: 0.1650 - mothers_loss: 0.6156 - sparse_branchings_z_loss: 0.9946 - sparse_branchings_t_loss: 0.8503 - sparse_branchings_p_loss: 1.1517 - sparse_branchings_d_loss: 0.8958\n",
      "Epoch 4/5\n",
      "\n",
      "Epoch 00004: loss improved from 4.70766 to 4.58374, saving model to ./saved_models/JuniprAdam.h5\n",
      "100/100 - 2s - loss: 4.5837 - endings_loss: 0.1422 - mothers_loss: 0.6174 - sparse_branchings_z_loss: 0.9739 - sparse_branchings_t_loss: 0.8085 - sparse_branchings_p_loss: 1.1655 - sparse_branchings_d_loss: 0.8491\n",
      "Epoch 5/5\n",
      "\n",
      "Epoch 00005: loss improved from 4.58374 to 4.47446, saving model to ./saved_models/JuniprAdam.h5\n",
      "100/100 - 2s - loss: 4.4745 - endings_loss: 0.1333 - mothers_loss: 0.6185 - sparse_branchings_z_loss: 0.9427 - sparse_branchings_t_loss: 0.7852 - sparse_branchings_p_loss: 1.1685 - sparse_branchings_d_loss: 0.7948\n"
     ]
    },
    {
     "data": {
      "text/plain": [
       "<tensorflow.python.keras.callbacks.History at 0xb346392e8>"
      ]
     },
     "execution_count": 6,
     "metadata": {},
     "output_type": "execute_result"
    }
   ],
   "source": [
    "junipr.model.fit(dataset, steps_per_epoch = 100, epochs=5, callbacks=callbacks, verbose=2)"
   ]
  },
  {
   "cell_type": "code",
   "execution_count": null,
   "metadata": {},
   "outputs": [],
   "source": []
  }
 ],
 "metadata": {
  "kernelspec": {
   "display_name": "Python 3",
   "language": "python",
   "name": "python3"
  },
  "language_info": {
   "codemirror_mode": {
    "name": "ipython",
    "version": 3
   },
   "file_extension": ".py",
   "mimetype": "text/x-python",
   "name": "python",
   "nbconvert_exporter": "python",
   "pygments_lexer": "ipython3",
   "version": "3.6.6"
  }
 },
 "nbformat": 4,
 "nbformat_minor": 2
}
