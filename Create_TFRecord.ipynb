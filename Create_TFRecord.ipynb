{
 "cells": [
  {
   "cell_type": "code",
   "execution_count": 1,
   "metadata": {},
   "outputs": [],
   "source": [
    "import tensorflow as tf\n",
    "import numpy as np\n",
    "from junipr import *"
   ]
  },
  {
   "cell_type": "markdown",
   "metadata": {},
   "source": [
    "# Create TFRecord"
   ]
  },
  {
   "cell_type": "code",
   "execution_count": null,
   "metadata": {},
   "outputs": [],
   "source": [
    "# Eager mode must be on for this to run"
   ]
  },
  {
   "cell_type": "code",
   "execution_count": 2,
   "metadata": {},
   "outputs": [
    {
     "name": "stdout",
     "output_type": "stream",
     "text": [
      "Writing ./data/json/JuniprJets.json to ./data/tfrecord/JuniprJets_new.tfrecord\n",
      "-- Step 2200 of 22000\n",
      "-- Step 4400 of 22000\n",
      "-- Step 6600 of 22000\n",
      "-- Step 8800 of 22000\n",
      "-- Step 11000 of 22000\n",
      "-- Step 13200 of 22000\n",
      "-- Step 15400 of 22000\n",
      "-- Step 17600 of 22000\n",
      "-- Step 19800 of 22000\n"
     ]
    }
   ],
   "source": [
    "json_filename     = './data/json/JuniprJets.json'\n",
    "tfrecord_filename = './data/tfrecord/JuniprJets_new.tfrecord'\n",
    "create_TFRecord(json_filename, tfrecord_filename, verbose=True)"
   ]
  }
 ],
 "metadata": {
  "kernelspec": {
   "display_name": "tf2",
   "language": "python",
   "name": "tf2"
  },
  "language_info": {
   "codemirror_mode": {
    "name": "ipython",
    "version": 3
   },
   "file_extension": ".py",
   "mimetype": "text/x-python",
   "name": "python",
   "nbconvert_exporter": "python",
   "pygments_lexer": "ipython3",
   "version": "3.6.8"
  }
 },
 "nbformat": 4,
 "nbformat_minor": 2
}
